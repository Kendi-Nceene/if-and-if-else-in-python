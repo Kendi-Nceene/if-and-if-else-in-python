{
  "nbformat": 4,
  "nbformat_minor": 0,
  "metadata": {
    "colab": {
      "name": "if and if-else in python",
      "provenance": [],
      "authorship_tag": "ABX9TyMzh0MuLSm+cye7aN13ItKE",
      "include_colab_link": true
    },
    "kernelspec": {
      "name": "python3",
      "display_name": "Python 3"
    },
    "language_info": {
      "name": "python"
    }
  },
  "cells": [
    {
      "cell_type": "markdown",
      "metadata": {
        "id": "view-in-github",
        "colab_type": "text"
      },
      "source": [
        "<a href=\"https://colab.research.google.com/github/Kendi-Nceene/if-and-if-else-in-python/blob/main/if_and_if_else_in_python.ipynb\" target=\"_parent\"><img src=\"https://colab.research.google.com/assets/colab-badge.svg\" alt=\"Open In Colab\"/></a>"
      ]
    },
    {
      "cell_type": "code",
      "source": [
        "num = int(input(\"enter the number?\"))  \n",
        "if num%2 == 0:  \n",
        "    print(\"Number is even\")"
      ],
      "metadata": {
        "colab": {
          "base_uri": "https://localhost:8080/"
        },
        "id": "b-F3E-6c5018",
        "outputId": "01e7573e-8b75-4b5a-fc20-41458bc086e8"
      },
      "execution_count": null,
      "outputs": [
        {
          "output_type": "stream",
          "name": "stdout",
          "text": [
            "enter the number?10\n",
            "Number is even\n"
          ]
        }
      ]
    },
    {
      "cell_type": "code",
      "execution_count": null,
      "metadata": {
        "colab": {
          "base_uri": "https://localhost:8080/"
        },
        "id": "EifJqWip4kDa",
        "outputId": "639bb120-31fc-4745-af51-e87f9bd30c6a"
      },
      "outputs": [
        {
          "output_type": "stream",
          "name": "stdout",
          "text": [
            "Enter a? 4\n",
            "Enter b? 9\n",
            "Enter c? 3\n",
            "b is largest\n"
          ]
        }
      ],
      "source": [
        "a = int(input(\"Enter a? \"));  \n",
        "b = int(input(\"Enter b? \"));  \n",
        "c = int(input(\"Enter c? \"));  \n",
        "if a>b and a>c:  \n",
        "    print(\"a is largest\");  \n",
        "if b>a and b>c:  \n",
        "    print(\"b is largest\");  \n",
        "if c>a and c>b:\n",
        "  print(\"c is the largest\")"
      ]
    },
    {
      "cell_type": "code",
      "source": [
        "age = int (input(\"Enter your age? \"))  \n",
        "if age>=18:  \n",
        "    print(\"You are eligible to vote !!\");  \n",
        "else:  \n",
        "    print(\"Sorry! you have to wait !!\");  "
      ],
      "metadata": {
        "colab": {
          "base_uri": "https://localhost:8080/"
        },
        "id": "ckz51QTu5KKB",
        "outputId": "36be2250-3e50-407f-eb4c-5ca25f586e09"
      },
      "execution_count": null,
      "outputs": [
        {
          "output_type": "stream",
          "name": "stdout",
          "text": [
            "Enter your age? 26\n",
            "You are eligible to vote !!\n"
          ]
        }
      ]
    },
    {
      "cell_type": "code",
      "source": [
        "num = int(input(\"enter the number?\"))  \n",
        "if num%2 == 0:  \n",
        "    print(\"Number is even...\")  \n",
        "else:  \n",
        "    print(\"Number is odd...\")  "
      ],
      "metadata": {
        "colab": {
          "base_uri": "https://localhost:8080/"
        },
        "id": "iDAMH1dz5T_6",
        "outputId": "947c61de-079a-4113-fb9e-f173cdcd1fa7"
      },
      "execution_count": null,
      "outputs": [
        {
          "output_type": "stream",
          "name": "stdout",
          "text": [
            "enter the number?8\n",
            "Number is even...\n"
          ]
        }
      ]
    }
  ]
}